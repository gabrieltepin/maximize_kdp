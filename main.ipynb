{
 "cells": [
  {
   "cell_type": "code",
   "execution_count": 20,
   "metadata": {},
   "outputs": [],
   "source": [
    "import pulp\n",
    "\n",
    "# Initialize the model\n",
    "model = pulp.LpProblem(\"Maximize_Receptor_Matching\", pulp.LpMaximize)\n",
    "\n",
    "# Defining the initial values\n",
    "# Define aggregate flow variables for donors\n",
    "x_O = 2  # Total flow from donors with blood type O\n",
    "x_A = 6  # Total flow from donors with blood type A\n",
    "x_B = 5  # Total flow from donors with blood type B\n",
    "x_C = 3  # Total flow from donors with blood type C\n",
    "\n",
    "# Given the number of recipients for each blood type\n",
    "Y_O = 4  # Recipients with blood type O\n",
    "Y_A = 12  # Recipients with blood type A\n",
    "Y_B = 11  # Recipients with blood type B\n",
    "Y_C = 4  # Recipients with blood type C\n"
   ]
  },
  {
   "cell_type": "code",
   "execution_count": 21,
   "metadata": {},
   "outputs": [],
   "source": [
    "# Decision variables for the individual flows x_ij\n",
    "x_OO = pulp.LpVariable('x_OO', lowBound=0, cat='Integer')\n",
    "x_OA = pulp.LpVariable('x_OA', lowBound=0, cat='Integer')\n",
    "x_OB = pulp.LpVariable('x_OB', lowBound=0, cat='Integer')\n",
    "x_OC = pulp.LpVariable('x_OC', lowBound=0, cat='Integer')\n",
    "x_AA = pulp.LpVariable('x_AA', lowBound=0, cat='Integer')\n",
    "x_AC = pulp.LpVariable('x_AC', lowBound=0, cat='Integer')\n",
    "x_BB = pulp.LpVariable('x_BB', lowBound=0, cat='Integer')\n",
    "x_BC = pulp.LpVariable('x_BC', lowBound=0, cat='Integer')\n",
    "x_CC = pulp.LpVariable('x_CC', lowBound=0, cat='Integer')\n",
    "\n",
    "# Receptor flow variables\n",
    "y_O = pulp.LpVariable('y_O', upBound=Y_O,lowBound=0, cat='Integer')\n",
    "y_A = pulp.LpVariable('y_A', upBound=Y_A,lowBound=0, cat='Integer')\n",
    "y_B = pulp.LpVariable('y_B', upBound=Y_B,lowBound=0, cat='Integer')\n",
    "y_C = pulp.LpVariable('y_C', upBound=Y_C,lowBound=0, cat='Integer')\n",
    "\n",
    "# Waste (slack) variables\n",
    "z_O = pulp.LpVariable('z_O', lowBound=0, cat='Integer')\n",
    "z_A = pulp.LpVariable('z_A', lowBound=0, cat='Integer')\n",
    "z_B = pulp.LpVariable('z_B', lowBound=0, cat='Integer')\n",
    "z_C = pulp.LpVariable('z_C', lowBound=0, cat='Integer')\n"
   ]
  },
  {
   "cell_type": "code",
   "execution_count": 22,
   "metadata": {},
   "outputs": [
    {
     "name": "stdout",
     "output_type": "stream",
     "text": [
      "Welcome to the CBC MILP Solver \n",
      "Version: 2.10.3 \n",
      "Build Date: Dec 15 2019 \n",
      "\n",
      "command line - /Users/tepin/Workspace/ttu/op_research/project/blood_donation/venv/lib/python3.9/site-packages/pulp/solverdir/cbc/osx/64/cbc /var/folders/bw/klb3s_v14tj47nwv021v4cm40000gn/T/7b310bcd030945ae8ac6f791ea439f87-pulp.mps -max -timeMode elapsed -branch -printingOptions all -solution /var/folders/bw/klb3s_v14tj47nwv021v4cm40000gn/T/7b310bcd030945ae8ac6f791ea439f87-pulp.sol (default strategy 1)\n",
      "At line 2 NAME          MODEL\n",
      "At line 3 ROWS\n",
      "At line 17 COLUMNS\n",
      "At line 90 RHS\n",
      "At line 103 BOUNDS\n",
      "At line 121 ENDATA\n",
      "Problem MODEL has 12 rows, 17 columns and 34 elements\n",
      "Coin0008I MODEL read with 0 errors\n",
      "Option for timeMode changed from cpu to elapsed\n",
      "Continuous objective value is 16 - 0.00 seconds\n",
      "Cgl0004I processed model has 4 rows, 9 columns (9 integer (0 of which binary)) and 14 elements\n",
      "Cutoff increment increased from 1e-05 to 0.9999\n",
      "Cbc0012I Integer solution of -16 found by DiveCoefficient after 0 iterations and 0 nodes (0.02 seconds)\n",
      "Cbc0001I Search completed - best objective -16, took 0 iterations and 0 nodes (0.02 seconds)\n",
      "Cbc0035I Maximum depth 0, 0 variables fixed on reduced cost\n",
      "Cuts at root node changed objective from -16 to -16\n",
      "Probing was tried 0 times and created 0 cuts of which 0 were active after adding rounds of cuts (0.000 seconds)\n",
      "Gomory was tried 0 times and created 0 cuts of which 0 were active after adding rounds of cuts (0.000 seconds)\n",
      "Knapsack was tried 0 times and created 0 cuts of which 0 were active after adding rounds of cuts (0.000 seconds)\n",
      "Clique was tried 0 times and created 0 cuts of which 0 were active after adding rounds of cuts (0.000 seconds)\n",
      "MixedIntegerRounding2 was tried 0 times and created 0 cuts of which 0 were active after adding rounds of cuts (0.000 seconds)\n",
      "FlowCover was tried 0 times and created 0 cuts of which 0 were active after adding rounds of cuts (0.000 seconds)\n",
      "TwoMirCuts was tried 0 times and created 0 cuts of which 0 were active after adding rounds of cuts (0.000 seconds)\n",
      "ZeroHalf was tried 0 times and created 0 cuts of which 0 were active after adding rounds of cuts (0.000 seconds)\n",
      "\n",
      "Result - Optimal solution found\n",
      "\n",
      "Objective value:                16.00000000\n",
      "Enumerated nodes:               0\n",
      "Total iterations:               0\n",
      "Time (CPU seconds):             0.00\n",
      "Time (Wallclock seconds):       0.02\n",
      "\n",
      "Option for printingOptions changed from normal to all\n",
      "Total time (CPU seconds):       0.00   (Wallclock seconds):       0.02\n",
      "\n",
      "Status: Optimal\n",
      "Objective function value (maximum matching): 16.0\n"
     ]
    }
   ],
   "source": [
    "# Equations for x_O, x_A, x_B, x_C\n",
    "model += x_O == x_OO + x_OA + x_OB + x_OC\n",
    "model += x_A == x_AA + x_AC\n",
    "model += x_B == x_BB + x_BC\n",
    "model += x_C == x_CC\n",
    "\n",
    "# Equations for the receptor flows\n",
    "model += x_OO == y_O + z_O\n",
    "model += x_OA + x_AA == y_A + z_A\n",
    "model += x_OB + x_BB == y_B + z_B\n",
    "model += x_OC + x_AC + x_BC + x_CC == y_C + z_C\n",
    "\n",
    "# Waste calculation (slack)\n",
    "model += z_O >= y_O - Y_O\n",
    "model += z_A >= y_A - Y_A\n",
    "model += z_B >= y_B - Y_B\n",
    "model += z_C >= y_C - Y_C\n",
    "\n",
    "# Objective function: Maximize the sum of flows into the receptors\n",
    "model += y_O + y_A + y_B + y_C\n",
    "\n",
    "# Solve the model\n",
    "model.solve()\n",
    "\n",
    "# Print the results\n",
    "print(\"Status:\", pulp.LpStatus[model.status])\n",
    "print(\"Objective function value (maximum matching):\", pulp.value(model.objective))\n"
   ]
  },
  {
   "cell_type": "code",
   "execution_count": 23,
   "metadata": {},
   "outputs": [
    {
     "name": "stdout",
     "output_type": "stream",
     "text": [
      "x_AA = 5.0\n",
      "x_AC = 1.0\n",
      "x_BB = 5.0\n",
      "x_BC = 0.0\n",
      "x_CC = 3.0\n",
      "x_OA = 0.0\n",
      "x_OB = 0.0\n",
      "x_OC = 0.0\n",
      "x_OO = 2.0\n",
      "y_A = 5.0\n",
      "y_B = 5.0\n",
      "y_C = 4.0\n",
      "y_O = 2.0\n",
      "z_A = 0.0\n",
      "z_B = 0.0\n",
      "z_C = 0.0\n",
      "z_O = 0.0\n"
     ]
    }
   ],
   "source": [
    "for v in model.variables():\n",
    "    print(f\"{v.name} = {v.varValue}\")"
   ]
  }
 ],
 "metadata": {
  "kernelspec": {
   "display_name": "venv",
   "language": "python",
   "name": "python3"
  },
  "language_info": {
   "codemirror_mode": {
    "name": "ipython",
    "version": 3
   },
   "file_extension": ".py",
   "mimetype": "text/x-python",
   "name": "python",
   "nbconvert_exporter": "python",
   "pygments_lexer": "ipython3",
   "version": "3.9.6"
  }
 },
 "nbformat": 4,
 "nbformat_minor": 2
}
